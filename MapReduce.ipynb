{
 "cells": [
  {
   "cell_type": "code",
   "id": "initial_id",
   "metadata": {
    "collapsed": true,
    "ExecuteTime": {
     "end_time": "2025-01-27T16:16:16.046352Z",
     "start_time": "2025-01-27T16:16:16.044435Z"
    }
   },
   "source": [
    "import time\n",
    "import multiprocessing\n",
    "import matplotlib.pyplot as plt\n",
    "import seaborn as sns\n",
    "import pandas as pd\n",
    "from functools import reduce\n",
    "from tqdm import tqdm\n"
   ],
   "outputs": [],
   "execution_count": 15
  },
  {
   "metadata": {
    "ExecuteTime": {
     "end_time": "2025-01-27T16:16:16.760654Z",
     "start_time": "2025-01-27T16:16:16.452203Z"
    }
   },
   "cell_type": "code",
   "source": [
    "path = 'large-txt.txt'\n",
    "\n",
    "with open(path, 'r', encoding='latin') as f:\n",
    "    lines = f.readlines()\n",
    "print(f\"Total lines: {len(lines)}\")"
   ],
   "id": "ef569903c04539fb",
   "outputs": [
    {
     "name": "stdout",
     "output_type": "stream",
     "text": [
      "Total lines: 2225370\n"
     ]
    }
   ],
   "execution_count": 16
  },
  {
   "metadata": {
    "ExecuteTime": {
     "end_time": "2025-01-27T16:16:16.767248Z",
     "start_time": "2025-01-27T16:16:16.764870Z"
    }
   },
   "cell_type": "code",
   "source": [
    "def word_count_single_processor(data_lines):\n",
    "    \"\"\"\n",
    "    Compte les occurrences des mots en utilisant un seul processeur sans utiliser de bibliothèques externes.\n",
    "    Mesure et retourne le temps écoulé.\n",
    "    \"\"\"\n",
    "    start_time = time.time()\n",
    "    word_counts = {}\n",
    "\n",
    "    for line in data_lines:\n",
    "        words = line.split()\n",
    "        for word in words:\n",
    "            if word in word_counts:\n",
    "                word_counts[word] += 1\n",
    "            else:\n",
    "                word_counts[word] = 1\n",
    "\n",
    "    end_time = time.time()\n",
    "    elapsed_time = end_time - start_time\n",
    "    return word_counts, elapsed_time"
   ],
   "id": "5ec857f30e57834f",
   "outputs": [],
   "execution_count": 17
  },
  {
   "metadata": {
    "ExecuteTime": {
     "end_time": "2025-01-27T16:16:21.293234Z",
     "start_time": "2025-01-27T16:16:17.168050Z"
    }
   },
   "cell_type": "code",
   "source": [
    "single_counts, single_time = word_count_single_processor(lines)\n",
    "print(f\"Processeur Simple Temps: {single_time:.4f} secondes\")\n",
    "print(f\"Nombre de mots uniques (Processeur simple): {len(single_counts)}\")"
   ],
   "id": "302aa7f536bdc63f",
   "outputs": [
    {
     "name": "stdout",
     "output_type": "stream",
     "text": [
      "Processeur Simple Temps: 4.1156 secondes\n",
      "Nombre de mots uniques (Processeur simple): 615470\n"
     ]
    }
   ],
   "execution_count": 18
  },
  {
   "metadata": {
    "ExecuteTime": {
     "end_time": "2025-01-27T16:16:21.775468Z",
     "start_time": "2025-01-27T16:16:21.745237Z"
    }
   },
   "cell_type": "code",
   "source": [
    "def split_into_chunks(data_lines, num_chunks):\n",
    "    \"\"\"\n",
    "    Splits the list of lines into num_chunks chunks.\n",
    "    Returns a list of chunk strings.\n",
    "    \"\"\"\n",
    "    chunk_size = len(data_lines) // num_chunks\n",
    "    chunks = []\n",
    "    start = 0\n",
    "    for i in range(num_chunks):\n",
    "        if i == num_chunks - 1:\n",
    "            chunk_lines = data_lines[start:]\n",
    "        else:\n",
    "            chunk_lines = data_lines[start : start + chunk_size]\n",
    "        start += chunk_size\n",
    "        chunks.append(\" \".join(chunk_lines))\n",
    "    return chunks\n",
    "\n",
    "def map_function(text_chunk):\n",
    "    \"\"\"Fonction de map : retourne un dictionnaire des fréquences de mots pour le morceau de texte.\"\"\"\n",
    "    word_freq = {}\n",
    "    for word in text_chunk.split():\n",
    "        if word in word_freq:\n",
    "            word_freq[word] += 1\n",
    "        else:\n",
    "            word_freq[word] = 1\n",
    "    return word_freq\n",
    "\n",
    "def reduce_function(counter_a, counter_b):\n",
    "    \"\"\"Reduce function: merges two word count dictionaries by summing counts.\"\"\"\n",
    "    for word, count in counter_b.items():\n",
    "        if word in counter_a:\n",
    "            counter_a[word] += count\n",
    "        else:\n",
    "            counter_a[word] = count\n",
    "    return counter_a\n",
    "\n",
    "def word_count_multiprocess(data_lines, processes=2):\n",
    "    \"\"\"\n",
    "    Counts word occurrences using multiple processors.\n",
    "    Measures and returns the time taken for each stage and the final counts.\n",
    "    \"\"\"\n",
    "    timings = {}\n",
    "    t_start_total = time.time()\n",
    "\n",
    "    # Chunking\n",
    "    t_start_chunk = time.time()\n",
    "    chunks = split_into_chunks(data_lines, num_chunks=processes)\n",
    "    t_end_chunk = time.time()\n",
    "    timings['time_chunk'] = t_end_chunk - t_start_chunk\n",
    "\n",
    "    # Mapping\n",
    "    t_start_map = time.time()\n",
    "    with multiprocessing.Pool(processes=processes) as pool:\n",
    "        partial_counters = pool.map(map_function, chunks)\n",
    "    t_end_map = time.time()\n",
    "    timings['time_map'] = t_end_map - t_start_map\n",
    "\n",
    "    # Reducing\n",
    "    t_start_reduce = time.time()\n",
    "    final_counts = reduce(reduce_function, partial_counters)\n",
    "    t_end_reduce = time.time()\n",
    "    timings['time_reduce'] = t_end_reduce - t_start_reduce\n",
    "\n",
    "    t_end_total = time.time()\n",
    "    timings['time_total'] = t_end_total - t_start_total\n",
    "\n",
    "    return final_counts, timings"
   ],
   "id": "2801832b78fa7696",
   "outputs": [],
   "execution_count": 19
  },
  {
   "metadata": {
    "ExecuteTime": {
     "end_time": "2025-01-27T16:17:17.302620Z",
     "start_time": "2025-01-27T16:16:22.220039Z"
    }
   },
   "cell_type": "code",
   "source": [
    "# Define processor configurations and number of runs\n",
    "process_list = [2, 3, 4]\n",
    "N_RUNS = 5\n",
    "\n",
    "all_results = []\n",
    "\n",
    "for procs in process_list:\n",
    "    print(f\"\\nNb process: {procs}\")\n",
    "    for run in tqdm(range(1, N_RUNS + 1), desc=f\"Runs for {procs} processes\"):\n",
    "        counts, timings = word_count_multiprocess(lines, processes=procs)\n",
    "        result = {'processes': procs,\n",
    "                  'run': run,\n",
    "                  'time_chunk': timings['time_chunk'],\n",
    "                  'time_map': timings['time_map'],\n",
    "                  'time_reduce': timings['time_reduce'],\n",
    "                  'time_total': timings['time_total']}\n",
    "        all_results.append(result)"
   ],
   "id": "7dda7104661f8a75",
   "outputs": [
    {
     "name": "stdout",
     "output_type": "stream",
     "text": [
      "\n",
      "Nb process: 2\n"
     ]
    },
    {
     "name": "stderr",
     "output_type": "stream",
     "text": [
      "Runs for 2 processes: 100%|██████████| 5/5 [00:21<00:00,  4.22s/it]\n"
     ]
    },
    {
     "name": "stdout",
     "output_type": "stream",
     "text": [
      "\n",
      "Nb process: 3\n"
     ]
    },
    {
     "name": "stderr",
     "output_type": "stream",
     "text": [
      "Runs for 3 processes: 100%|██████████| 5/5 [00:17<00:00,  3.55s/it]\n"
     ]
    },
    {
     "name": "stdout",
     "output_type": "stream",
     "text": [
      "\n",
      "Nb process: 4\n"
     ]
    },
    {
     "name": "stderr",
     "output_type": "stream",
     "text": [
      "Runs for 4 processes: 100%|██████████| 5/5 [00:16<00:00,  3.25s/it]\n"
     ]
    }
   ],
   "execution_count": 20
  },
  {
   "metadata": {
    "ExecuteTime": {
     "end_time": "2025-01-27T16:17:39.333763Z",
     "start_time": "2025-01-27T16:17:17.737025Z"
    }
   },
   "cell_type": "code",
   "source": [
    "SINGLE_N_RUNS = 5\n",
    "\n",
    "single_results = []\n",
    "for run in tqdm(range(1, SINGLE_N_RUNS + 1), desc=\"Process unique\"):\n",
    "    _, single_time = word_count_single_processor(lines)\n",
    "    result = {'processes': 1,\n",
    "              'run': run,\n",
    "              'time_chunk': None,  # Not applicable\n",
    "              'time_map': None,    # Not applicable\n",
    "              'time_reduce': None, # Not applicable\n",
    "              'time_total': single_time}\n",
    "    single_results.append(result)\n",
    "\n",
    "all_results.extend(single_results)"
   ],
   "id": "1e86b077d6eea9d2",
   "outputs": [
    {
     "name": "stderr",
     "output_type": "stream",
     "text": [
      "Process unique: 100%|██████████| 5/5 [00:21<00:00,  4.32s/it]\n"
     ]
    }
   ],
   "execution_count": 21
  },
  {
   "metadata": {
    "ExecuteTime": {
     "end_time": "2025-01-27T16:17:39.771709Z",
     "start_time": "2025-01-27T16:17:39.766378Z"
    }
   },
   "cell_type": "code",
   "source": [
    "# Convert all results to a pandas DataFrame\n",
    "df_results = pd.DataFrame(all_results)\n",
    "df_results.head(10)"
   ],
   "id": "9881f2d206fb5053",
   "outputs": [
    {
     "data": {
      "text/plain": [
       "   processes  run  time_chunk  time_map  time_reduce  time_total\n",
       "0          2    1    0.153752  3.703662     0.116477    3.973960\n",
       "1          2    2    0.188069  3.899866     0.135001    4.223004\n",
       "2          2    3    0.196265  3.831118     0.146253    4.173651\n",
       "3          2    4    0.191865  3.884833     0.151025    4.227937\n",
       "4          2    5    0.187644  3.851423     0.149917    4.189079\n",
       "5          3    1    0.196847  3.071372     0.199725    3.467963\n",
       "6          3    2    0.197934  2.957181     0.210363    3.365496\n",
       "7          3    3    0.187545  3.080615     0.266920    3.535093\n",
       "8          3    4    0.205945  3.054234     0.221186    3.481739\n",
       "9          3    5    0.192154  3.138490     0.226324    3.556979"
      ],
      "text/html": [
       "<div>\n",
       "<style scoped>\n",
       "    .dataframe tbody tr th:only-of-type {\n",
       "        vertical-align: middle;\n",
       "    }\n",
       "\n",
       "    .dataframe tbody tr th {\n",
       "        vertical-align: top;\n",
       "    }\n",
       "\n",
       "    .dataframe thead th {\n",
       "        text-align: right;\n",
       "    }\n",
       "</style>\n",
       "<table border=\"1\" class=\"dataframe\">\n",
       "  <thead>\n",
       "    <tr style=\"text-align: right;\">\n",
       "      <th></th>\n",
       "      <th>processes</th>\n",
       "      <th>run</th>\n",
       "      <th>time_chunk</th>\n",
       "      <th>time_map</th>\n",
       "      <th>time_reduce</th>\n",
       "      <th>time_total</th>\n",
       "    </tr>\n",
       "  </thead>\n",
       "  <tbody>\n",
       "    <tr>\n",
       "      <th>0</th>\n",
       "      <td>2</td>\n",
       "      <td>1</td>\n",
       "      <td>0.153752</td>\n",
       "      <td>3.703662</td>\n",
       "      <td>0.116477</td>\n",
       "      <td>3.973960</td>\n",
       "    </tr>\n",
       "    <tr>\n",
       "      <th>1</th>\n",
       "      <td>2</td>\n",
       "      <td>2</td>\n",
       "      <td>0.188069</td>\n",
       "      <td>3.899866</td>\n",
       "      <td>0.135001</td>\n",
       "      <td>4.223004</td>\n",
       "    </tr>\n",
       "    <tr>\n",
       "      <th>2</th>\n",
       "      <td>2</td>\n",
       "      <td>3</td>\n",
       "      <td>0.196265</td>\n",
       "      <td>3.831118</td>\n",
       "      <td>0.146253</td>\n",
       "      <td>4.173651</td>\n",
       "    </tr>\n",
       "    <tr>\n",
       "      <th>3</th>\n",
       "      <td>2</td>\n",
       "      <td>4</td>\n",
       "      <td>0.191865</td>\n",
       "      <td>3.884833</td>\n",
       "      <td>0.151025</td>\n",
       "      <td>4.227937</td>\n",
       "    </tr>\n",
       "    <tr>\n",
       "      <th>4</th>\n",
       "      <td>2</td>\n",
       "      <td>5</td>\n",
       "      <td>0.187644</td>\n",
       "      <td>3.851423</td>\n",
       "      <td>0.149917</td>\n",
       "      <td>4.189079</td>\n",
       "    </tr>\n",
       "    <tr>\n",
       "      <th>5</th>\n",
       "      <td>3</td>\n",
       "      <td>1</td>\n",
       "      <td>0.196847</td>\n",
       "      <td>3.071372</td>\n",
       "      <td>0.199725</td>\n",
       "      <td>3.467963</td>\n",
       "    </tr>\n",
       "    <tr>\n",
       "      <th>6</th>\n",
       "      <td>3</td>\n",
       "      <td>2</td>\n",
       "      <td>0.197934</td>\n",
       "      <td>2.957181</td>\n",
       "      <td>0.210363</td>\n",
       "      <td>3.365496</td>\n",
       "    </tr>\n",
       "    <tr>\n",
       "      <th>7</th>\n",
       "      <td>3</td>\n",
       "      <td>3</td>\n",
       "      <td>0.187545</td>\n",
       "      <td>3.080615</td>\n",
       "      <td>0.266920</td>\n",
       "      <td>3.535093</td>\n",
       "    </tr>\n",
       "    <tr>\n",
       "      <th>8</th>\n",
       "      <td>3</td>\n",
       "      <td>4</td>\n",
       "      <td>0.205945</td>\n",
       "      <td>3.054234</td>\n",
       "      <td>0.221186</td>\n",
       "      <td>3.481739</td>\n",
       "    </tr>\n",
       "    <tr>\n",
       "      <th>9</th>\n",
       "      <td>3</td>\n",
       "      <td>5</td>\n",
       "      <td>0.192154</td>\n",
       "      <td>3.138490</td>\n",
       "      <td>0.226324</td>\n",
       "      <td>3.556979</td>\n",
       "    </tr>\n",
       "  </tbody>\n",
       "</table>\n",
       "</div>"
      ]
     },
     "execution_count": 22,
     "metadata": {},
     "output_type": "execute_result"
    }
   ],
   "execution_count": 22
  },
  {
   "metadata": {
    "ExecuteTime": {
     "end_time": "2025-01-27T16:18:30.676876Z",
     "start_time": "2025-01-27T16:18:30.667495Z"
    }
   },
   "cell_type": "code",
   "source": [
    "# Statistical Summary\n",
    "print(\"\\nStats resume (secondes):\")\n",
    "df_results.groupby('processes').agg(['mean', 'std'])"
   ],
   "id": "3c185de770f88b22",
   "outputs": [
    {
     "name": "stdout",
     "output_type": "stream",
     "text": [
      "\n",
      "Stats resume (secondes):\n"
     ]
    },
    {
     "data": {
      "text/plain": [
       "           run           time_chunk            time_map           time_reduce  \\\n",
       "          mean       std       mean       std      mean       std        mean   \n",
       "processes                                                                       \n",
       "1          3.0  1.581139        NaN       NaN       NaN       NaN         NaN   \n",
       "2          3.0  1.581139   0.183519  0.016999  3.834181  0.077817    0.139735   \n",
       "3          3.0  1.581139   0.196085  0.006885  3.060378  0.065801    0.224903   \n",
       "4          3.0  1.581139   0.200332  0.006629  2.700683  0.057641    0.274520   \n",
       "\n",
       "                    time_total            \n",
       "                std       mean       std  \n",
       "processes                                 \n",
       "1               NaN   4.300920  0.081642  \n",
       "2          0.014465   4.157526  0.105116  \n",
       "3          0.025625   3.481454  0.074514  \n",
       "4          0.008019   3.175566  0.059965  "
      ],
      "text/html": [
       "<div>\n",
       "<style scoped>\n",
       "    .dataframe tbody tr th:only-of-type {\n",
       "        vertical-align: middle;\n",
       "    }\n",
       "\n",
       "    .dataframe tbody tr th {\n",
       "        vertical-align: top;\n",
       "    }\n",
       "\n",
       "    .dataframe thead tr th {\n",
       "        text-align: left;\n",
       "    }\n",
       "\n",
       "    .dataframe thead tr:last-of-type th {\n",
       "        text-align: right;\n",
       "    }\n",
       "</style>\n",
       "<table border=\"1\" class=\"dataframe\">\n",
       "  <thead>\n",
       "    <tr>\n",
       "      <th></th>\n",
       "      <th colspan=\"2\" halign=\"left\">run</th>\n",
       "      <th colspan=\"2\" halign=\"left\">time_chunk</th>\n",
       "      <th colspan=\"2\" halign=\"left\">time_map</th>\n",
       "      <th colspan=\"2\" halign=\"left\">time_reduce</th>\n",
       "      <th colspan=\"2\" halign=\"left\">time_total</th>\n",
       "    </tr>\n",
       "    <tr>\n",
       "      <th></th>\n",
       "      <th>mean</th>\n",
       "      <th>std</th>\n",
       "      <th>mean</th>\n",
       "      <th>std</th>\n",
       "      <th>mean</th>\n",
       "      <th>std</th>\n",
       "      <th>mean</th>\n",
       "      <th>std</th>\n",
       "      <th>mean</th>\n",
       "      <th>std</th>\n",
       "    </tr>\n",
       "    <tr>\n",
       "      <th>processes</th>\n",
       "      <th></th>\n",
       "      <th></th>\n",
       "      <th></th>\n",
       "      <th></th>\n",
       "      <th></th>\n",
       "      <th></th>\n",
       "      <th></th>\n",
       "      <th></th>\n",
       "      <th></th>\n",
       "      <th></th>\n",
       "    </tr>\n",
       "  </thead>\n",
       "  <tbody>\n",
       "    <tr>\n",
       "      <th>1</th>\n",
       "      <td>3.0</td>\n",
       "      <td>1.581139</td>\n",
       "      <td>NaN</td>\n",
       "      <td>NaN</td>\n",
       "      <td>NaN</td>\n",
       "      <td>NaN</td>\n",
       "      <td>NaN</td>\n",
       "      <td>NaN</td>\n",
       "      <td>4.300920</td>\n",
       "      <td>0.081642</td>\n",
       "    </tr>\n",
       "    <tr>\n",
       "      <th>2</th>\n",
       "      <td>3.0</td>\n",
       "      <td>1.581139</td>\n",
       "      <td>0.183519</td>\n",
       "      <td>0.016999</td>\n",
       "      <td>3.834181</td>\n",
       "      <td>0.077817</td>\n",
       "      <td>0.139735</td>\n",
       "      <td>0.014465</td>\n",
       "      <td>4.157526</td>\n",
       "      <td>0.105116</td>\n",
       "    </tr>\n",
       "    <tr>\n",
       "      <th>3</th>\n",
       "      <td>3.0</td>\n",
       "      <td>1.581139</td>\n",
       "      <td>0.196085</td>\n",
       "      <td>0.006885</td>\n",
       "      <td>3.060378</td>\n",
       "      <td>0.065801</td>\n",
       "      <td>0.224903</td>\n",
       "      <td>0.025625</td>\n",
       "      <td>3.481454</td>\n",
       "      <td>0.074514</td>\n",
       "    </tr>\n",
       "    <tr>\n",
       "      <th>4</th>\n",
       "      <td>3.0</td>\n",
       "      <td>1.581139</td>\n",
       "      <td>0.200332</td>\n",
       "      <td>0.006629</td>\n",
       "      <td>2.700683</td>\n",
       "      <td>0.057641</td>\n",
       "      <td>0.274520</td>\n",
       "      <td>0.008019</td>\n",
       "      <td>3.175566</td>\n",
       "      <td>0.059965</td>\n",
       "    </tr>\n",
       "  </tbody>\n",
       "</table>\n",
       "</div>"
      ]
     },
     "execution_count": 24,
     "metadata": {},
     "output_type": "execute_result"
    }
   ],
   "execution_count": 24
  },
  {
   "metadata": {
    "ExecuteTime": {
     "end_time": "2025-01-27T16:18:30.917158Z",
     "start_time": "2025-01-27T16:18:30.793919Z"
    }
   },
   "cell_type": "code",
   "source": [
    "plt.figure(figsize=(10, 6))\n",
    "sns.boxplot(x='processes', y='time_total', data=df_results, palette=\"Set2\")\n",
    "plt.title(\"Distribution du temps total d'exec  vs Nombre de process\")\n",
    "plt.xlabel(\"Number of Processes\")\n",
    "plt.ylabel(\"Total Execution Time (s)\")\n",
    "plt.show()"
   ],
   "id": "4dc95bc90b0ba4b2",
   "outputs": [
    {
     "name": "stderr",
     "output_type": "stream",
     "text": [
      "/tmp/ipykernel_83123/2730941705.py:2: FutureWarning: \n",
      "\n",
      "Passing `palette` without assigning `hue` is deprecated and will be removed in v0.14.0. Assign the `x` variable to `hue` and set `legend=False` for the same effect.\n",
      "\n",
      "  sns.boxplot(x='processes', y='time_total', data=df_results, palette=\"Set2\")\n"
     ]
    },
    {
     "data": {
      "text/plain": [
       "<Figure size 1000x600 with 1 Axes>"
      ],
      "image/png": "[encoded data removed]"
     },
     "metadata": {},
     "output_type": "display_data"
    }
   ],
   "execution_count": 25
  },
  {
   "metadata": {
    "ExecuteTime": {
     "end_time": "2025-01-27T16:18:31.609357Z",
     "start_time": "2025-01-27T16:18:31.476129Z"
    }
   },
   "cell_type": "code",
   "source": [
    "df_multi = df_results[df_results['processes'].isin([2, 3, 4])]\n",
    "\n",
    "df_melted = df_multi.melt(\n",
    "    id_vars=['processes', 'run'],\n",
    "    value_vars=['time_chunk', 'time_map', 'time_reduce'],\n",
    "    var_name='stage',\n",
    "    value_name='time'\n",
    ")\n",
    "\n",
    "df_melted['stage'] = df_melted['stage'].str.replace('_', ' ').str.title()\n",
    "\n",
    "plt.figure(figsize=(14, 8))\n",
    "sns.boxplot(\n",
    "    x='processes',\n",
    "    y='time',\n",
    "    hue='stage',\n",
    "    data=df_melted,\n",
    "    palette=\"Set3\"\n",
    ")\n",
    "plt.title(\"Distrib du chunking, Mapping, et Temps de reduce vs Nombre de process\", fontsize=16)\n",
    "plt.xlabel(\"Nb process\", fontsize=14)\n",
    "plt.ylabel(\"Temps (seconds)\", fontsize=14)\n",
    "plt.legend(title=\"etape\", fontsize=12, title_fontsize=12)\n",
    "plt.tight_layout()\n",
    "plt.show()"
   ],
   "id": "ba8256485903e9eb",
   "outputs": [
    {
     "data": {
      "text/plain": [
       "<Figure size 1400x800 with 1 Axes>"
      ],
      "image/png": "[encoded data removed]"
     },
     "metadata": {},
     "output_type": "display_data"
    }
   ],
   "execution_count": 26
  },
  {
   "metadata": {
    "ExecuteTime": {
     "end_time": "2025-01-27T16:18:31.616573Z",
     "start_time": "2025-01-27T16:18:31.614954Z"
    }
   },
   "cell_type": "code",
   "source": "",
   "id": "d5fb38e197abe87f",
   "outputs": [],
   "execution_count": null
  },
  {
   "metadata": {},
   "cell_type": "code",
   "outputs": [],
   "execution_count": null,
   "source": "",
   "id": "71b17b8de26a65c3"
  }
 ],
 "metadata": {
  "kernelspec": {
   "display_name": "Python 3",
   "language": "python",
   "name": "python3"
  },
  "language_info": {
   "codemirror_mode": {
    "name": "ipython",
    "version": 2
   },
   "file_extension": ".py",
   "mimetype": "text/x-python",
   "name": "python",
   "nbconvert_exporter": "python",
   "pygments_lexer": "ipython2",
   "version": "2.7.6"
  }
 },
 "nbformat": 4,
 "nbformat_minor": 5
}
